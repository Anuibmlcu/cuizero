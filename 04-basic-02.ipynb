{
 "cells": [
  {
   "cell_type": "code",
   "execution_count": null,
   "metadata": {},
   "outputs": [],
   "source": [
    "students=[{\n",
    "'姓名':'崔益广','github仓库位置':'https://github.com/Anuibmlcu/cuizero'\n",
    "\n",
    "}]\n",
    "  \n",
    "target_name= \"崔益广\"  \n",
    "  \n",
    "for student in students:\n",
    "    # print(student['姓名'])  \n",
    "    if student[\"姓名\"] == target_name:  \n",
    "        print(student['github仓库位置'])\n"
   ]
  },
  {
   "cell_type": "code",
   "execution_count": null,
   "metadata": {},
   "outputs": [],
   "source": [
    "def get_repo_by_name(name ,data):\n",
    "    for i in data:\n",
    "        if i ['姓名'] == name:\n",
    "            print(i[\"github仓库位置\"])"
   ]
  },
  {
   "cell_type": "code",
   "execution_count": 48,
   "metadata": {},
   "outputs": [
    {
     "name": "stdout",
     "output_type": "stream",
     "text": [
      "https://github.com/Anuibmlcu/cuizero\n"
     ]
    }
   ],
   "source": [
    "get_repo_by_name('崔益广', students)"
   ]
  },
  {
   "cell_type": "code",
   "execution_count": 49,
   "metadata": {},
   "outputs": [
    {
     "name": "stdout",
     "output_type": "stream",
     "text": [
      "https://github.com/Anuibmlcu/cuizero\n"
     ]
    }
   ],
   "source": [
    "get_repo_by_name(name='崔益广',data= students)"
   ]
  }
 ],
 "metadata": {
  "kernelspec": {
   "display_name": "Python 3",
   "language": "python",
   "name": "python3"
  },
  "language_info": {
   "codemirror_mode": {
    "name": "ipython",
    "version": 3
   },
   "file_extension": ".py",
   "mimetype": "text/x-python",
   "name": "python",
   "nbconvert_exporter": "python",
   "pygments_lexer": "ipython3",
   "version": "3.8.10"
  },
  "orig_nbformat": 4
 },
 "nbformat": 4,
 "nbformat_minor": 2
}
