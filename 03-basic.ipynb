{
 "cells": [
  {
   "cell_type": "code",
   "execution_count": 2,
   "metadata": {},
   "outputs": [
    {
     "data": {
      "text/plain": [
       "65548"
      ]
     },
     "execution_count": 2,
     "metadata": {},
     "output_type": "execute_result"
    }
   ],
   "source": [
    "count = 0\n",
    "count = count + 65548\n",
    "count"
   ]
  },
  {
   "cell_type": "code",
   "execution_count": 15,
   "metadata": {},
   "outputs": [
    {
     "data": {
      "text/plain": [
       "False"
      ]
     },
     "execution_count": 15,
     "metadata": {},
     "output_type": "execute_result"
    }
   ],
   "source": [
    "fi= 'magic'\n",
    "'gic' in fi \n",
    "'gic' not in fi"
   ]
  },
  {
   "cell_type": "code",
   "execution_count": 41,
   "metadata": {},
   "outputs": [
    {
     "name": "stdout",
     "output_type": "stream",
     "text": [
      "上课\n"
     ]
    }
   ],
   "source": [
    "天气 ='阴天'\n",
    "if 天气 == '晴天':\n",
    "   print(\"睡觉\")\n",
    "else:\n",
    "   print(\"上课\")\n"
   ]
  },
  {
   "cell_type": "code",
   "execution_count": 45,
   "metadata": {},
   "outputs": [
    {
     "name": "stdout",
     "output_type": "stream",
     "text": [
      "上课\n"
     ]
    }
   ],
   "source": [
    "天气 ='下雨'\n",
    "if 天气 == '晴天':\n",
    "   print(\"睡觉\")\n",
    "elif 天气=='下雪':\n",
    "   print('回家睡觉')\n",
    "else:\n",
    "   print(\"上课\")"
   ]
  },
  {
   "cell_type": "code",
   "execution_count": 27,
   "metadata": {},
   "outputs": [
    {
     "name": "stdout",
     "output_type": "stream",
     "text": [
      "cuizero 的库位置是 https://github.com/Anuibmlcu/cuizero\n"
     ]
    }
   ],
   "source": [
    "repos = {  \n",
    "    \"cuizero\": \"https://github.com/Anuibmlcu/cuizero\"  \n",
    "}  \n",
    "\n",
    "目标库 = \"cuizero\"  \n",
    "  \n",
    "if 目标库 in repos:  \n",
    "    library_location = repos[目标库]  \n",
    "    print(f\"{目标库} 的库位置是 {library_location}\")  \n",
    "else:  \n",
    "    print(f\"未找到名为 {目标库} 的库\")"
   ]
  }
 ],
 "metadata": {
  "kernelspec": {
   "display_name": "Python 3",
   "language": "python",
   "name": "python3"
  },
  "language_info": {
   "codemirror_mode": {
    "name": "ipython",
    "version": 3
   },
   "file_extension": ".py",
   "mimetype": "text/x-python",
   "name": "python",
   "nbconvert_exporter": "python",
   "pygments_lexer": "ipython3",
   "version": "3.8.10"
  },
  "orig_nbformat": 4
 },
 "nbformat": 4,
 "nbformat_minor": 2
}
