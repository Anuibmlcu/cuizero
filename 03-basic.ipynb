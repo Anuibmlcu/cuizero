{
 "cells": [
  {
   "cell_type": "markdown",
   "metadata": {},
   "source": [
    "python有各种运算符，我们可以使用这些运算符完成运算"
   ]
  },
  {
   "cell_type": "code",
   "execution_count": 12,
   "metadata": {},
   "outputs": [
    {
     "data": {
      "text/plain": [
       "388765188"
      ]
     },
     "execution_count": 12,
     "metadata": {},
     "output_type": "execute_result"
    }
   ],
   "source": [
    "count = 454+5477\n",
    "count = count * 65548\n",
    "count"
   ]
  },
  {
   "cell_type": "code",
   "execution_count": 15,
   "metadata": {},
   "outputs": [
    {
     "data": {
      "text/plain": [
       "False"
      ]
     },
     "execution_count": 15,
     "metadata": {},
     "output_type": "execute_result"
    }
   ],
   "source": [
    "fi= 'magic'\n",
    "'gic' in fi \n",
    "'gic' not in fi"
   ]
  },
  {
   "cell_type": "code",
   "execution_count": 41,
   "metadata": {},
   "outputs": [
    {
     "name": "stdout",
     "output_type": "stream",
     "text": [
      "上课\n"
     ]
    }
   ],
   "source": [
    "天气 ='阴天'\n",
    "if 天气 == '晴天':\n",
    "   print(\"睡觉\")\n",
    "else:\n",
    "   print(\"上课\")\n"
   ]
  },
  {
   "cell_type": "code",
   "execution_count": 45,
   "metadata": {},
   "outputs": [
    {
     "name": "stdout",
     "output_type": "stream",
     "text": [
      "上课\n"
     ]
    }
   ],
   "source": [
    "天气 ='下雨'\n",
    "if 天气 == '晴天':\n",
    "   print(\"睡觉\")\n",
    "elif 天气=='下雪':\n",
    "   print('回家睡觉')\n",
    "else:\n",
    "   print(\"上课\")"
   ]
  },
  {
   "cell_type": "code",
   "execution_count": 46,
   "metadata": {},
   "outputs": [
    {
     "name": "stdout",
     "output_type": "stream",
     "text": [
      "标题 这是第一次作业\n",
      "作者 崔益广\n"
     ]
    },
    {
     "ename": "NameError",
     "evalue": "name 'out' is not defined",
     "output_type": "error",
     "traceback": [
      "\u001b[1;31m---------------------------------------------------------------------------\u001b[0m",
      "\u001b[1;31mNameError\u001b[0m                                 Traceback (most recent call last)",
      "Cell \u001b[1;32mIn[46], line 4\u001b[0m\n\u001b[0;32m      2\u001b[0m \u001b[39mfor\u001b[39;00m k,v \u001b[39min\u001b[39;00m books\u001b[39m.\u001b[39mitems():\n\u001b[0;32m      3\u001b[0m     \u001b[39mprint\u001b[39m(k,v)\n\u001b[1;32m----> 4\u001b[0m out\n",
      "\u001b[1;31mNameError\u001b[0m: name 'out' is not defined"
     ]
    }
   ],
   "source": [
    "books ={'标题':'这是第一次作业','作者':'崔益广'}\n",
    "for k,v in books.items():\n",
    "    print(k,v)\n",
    "out"
   ]
  }
 ],
 "metadata": {
  "kernelspec": {
   "display_name": "Python 3",
   "language": "python",
   "name": "python3"
  },
  "language_info": {
   "codemirror_mode": {
    "name": "ipython",
    "version": 3
   },
   "file_extension": ".py",
   "mimetype": "text/x-python",
   "name": "python",
   "nbconvert_exporter": "python",
   "pygments_lexer": "ipython3",
   "version": "3.8.10"
  },
  "orig_nbformat": 4
 },
 "nbformat": 4,
 "nbformat_minor": 2
}
